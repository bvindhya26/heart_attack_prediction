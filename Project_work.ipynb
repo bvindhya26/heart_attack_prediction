# -*- coding: utf-8 -*-
"""
Created on Sun Apr  7 10:09:19 2024

@author: Vindhya Boddupalli
"""

import numpy as np
import pandas as pd

heart = pd.read_csv("C:/Users/HP/OneDrive/Documents/Kaggle_Dataset/Heart_Disease_Prediction.csv")
heart.shape
print("File size is :", heart.shape)
heart.head()
heart.tail()
heart.describe()
heart.info()

heart.isnull().sum()

heart.groupby('Heart_Disease')['index'].nunique().plot.bar()
